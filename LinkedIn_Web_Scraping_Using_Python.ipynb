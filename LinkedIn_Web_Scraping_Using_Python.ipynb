{
  "nbformat": 4,
  "nbformat_minor": 0,
  "metadata": {
    "colab": {
      "provenance": [],
      "include_colab_link": true
    },
    "kernelspec": {
      "name": "python3",
      "display_name": "Python 3"
    },
    "language_info": {
      "name": "python"
    }
  },
  "cells": [
    {
      "cell_type": "markdown",
      "metadata": {
        "id": "view-in-github",
        "colab_type": "text"
      },
      "source": [
        "<a href=\"https://colab.research.google.com/github/Shah049/FYP-MindSync/blob/main/LinkedIn_Web_Scraping_Using_Python.ipynb\" target=\"_parent\"><img src=\"https://colab.research.google.com/assets/colab-badge.svg\" alt=\"Open In Colab\"/></a>"
      ]
    },
    {
      "cell_type": "markdown",
      "metadata": {
        "id": "Ged94yWHs9IR"
      },
      "source": [
        "# **LinkedIn Web Scraping Tool**"
      ]
    },
    {
      "cell_type": "markdown",
      "metadata": {
        "id": "sd3Pd-j6tIAb"
      },
      "source": [
        "**Importing libraries**"
      ]
    },
    {
      "cell_type": "code",
      "metadata": {
        "id": "ZCEJE9bds6EI"
      },
      "source": [
        "from selenium import webdriver\n",
        "import time\n",
        "import pandas as pd"
      ],
      "execution_count": null,
      "outputs": []
    },
    {
      "cell_type": "markdown",
      "metadata": {
        "id": "39euMfnrtZbR"
      },
      "source": [
        "**Establishing LinkedIn job openings in Madrid page as the url to scrape:**"
      ]
    },
    {
      "cell_type": "code",
      "metadata": {
        "id": "tkL_XF2qs6cc"
      },
      "source": [
        "url = 'https://es.linkedin.com/jobs/search?keywords=Data%20Science&location=Madrid%2C%20Comunidad%20de%20Madrid%2C%20Espa%C3%B1a&locationId=&geoId=100994331&sortBy=R&f_TPR=&f_E=2&position=1&pageNum=0'"
      ],
      "execution_count": null,
      "outputs": []
    },
    {
      "cell_type": "markdown",
      "metadata": {
        "id": "_ldEVZzAtrlY"
      },
      "source": [
        "**Setting path and creating web driver**"
      ]
    },
    {
      "cell_type": "code",
      "metadata": {
        "colab": {
          "base_uri": "https://localhost:8080/"
        },
        "id": "BZLW0rrGylMk",
        "outputId": "f06352c8-a472-4d43-9317-25d458aef033"
      },
      "source": [
        "import os\n",
        "print(os.environ['PATH'])"
      ],
      "execution_count": null,
      "outputs": [
        {
          "output_type": "stream",
          "name": "stdout",
          "text": [
            "/usr/local/nvidia/bin:/usr/local/cuda/bin:/usr/local/sbin:/usr/local/bin:/usr/sbin:/usr/bin:/sbin:/bin:/tools/node/bin:/tools/google-cloud-sdk/bin:/opt/bin\n"
          ]
        }
      ]
    },
    {
      "cell_type": "code",
      "metadata": {
        "id": "UjB8J1L8s6kT"
      },
      "source": [
        "PATH = \"/Users/Edu/Desktop/VENV/chromedriver\"\n",
        "driver = webdriver.Chrome(PATH)\n",
        "\n",
        "driver.get(url)"
      ],
      "execution_count": null,
      "outputs": []
    },
    {
      "cell_type": "markdown",
      "metadata": {
        "id": "eURN6ruzuLq4"
      },
      "source": [
        "**First element we want to retrieve is the number of listed internship/entry level Data** **Science jobs in Madrid on LinkedIn:**\n"
      ]
    },
    {
      "cell_type": "code",
      "metadata": {
        "id": "dRAMB1_yt1jJ"
      },
      "source": [
        "no_of_jobs = int(driver.find_element_by_class_name(\"results-context-header__job-count\").text)\n",
        "print(no_of_jobs)"
      ],
      "execution_count": null,
      "outputs": []
    },
    {
      "cell_type": "markdown",
      "metadata": {
        "id": "hjgaWKtKuhoY"
      },
      "source": [
        "**Auto-scrolling to make sure all job listings load on the page before it is scraped:**\n"
      ]
    },
    {
      "cell_type": "code",
      "metadata": {
        "id": "t5B8GhdfuPTc"
      },
      "source": [
        "i = 2\n",
        "while i <= int(no_of_jobs/25)+1:\n",
        "    driver.execute_script('window.scrollTo(0,document.body.scrollHeight);')\n",
        "    i = i + 1\n",
        "    try:\n",
        "        driver.find_element_by_xpath('/html/body/main/div/section/button').click()\n",
        "        time.sleep(5)\n",
        "    except:\n",
        "        pass\n",
        "        time.sleep(5)"
      ],
      "execution_count": null,
      "outputs": []
    },
    {
      "cell_type": "markdown",
      "metadata": {
        "id": "o3Jm_fBfvXxt"
      },
      "source": [
        "**Now we can find all the jobs. I use the tag ‘jobs-search__results-list’ to find the job lists:**\n"
      ]
    },
    {
      "cell_type": "code",
      "metadata": {
        "id": "XxnBd0EtvQcn"
      },
      "source": [
        "job_lists = driver.find_element_by_class_name('jobs-search__results-list')"
      ],
      "execution_count": null,
      "outputs": []
    },
    {
      "cell_type": "markdown",
      "metadata": {
        "id": "XYbucKXXvqFo"
      },
      "source": [
        "**Each 'li' element contains one job:**"
      ]
    },
    {
      "cell_type": "code",
      "metadata": {
        "id": "wfsHPQHFvQgA"
      },
      "source": [
        "jobs = job_lists.find_elements_by_tag_name('li')"
      ],
      "execution_count": null,
      "outputs": []
    },
    {
      "cell_type": "markdown",
      "metadata": {
        "id": "lbDo7Lz6vhnx"
      },
      "source": [
        "**Checking how many jobs are listed:**\n"
      ]
    },
    {
      "cell_type": "code",
      "metadata": {
        "id": "iyNadEF3viHY"
      },
      "source": [
        "len(jobs)"
      ],
      "execution_count": null,
      "outputs": []
    },
    {
      "cell_type": "markdown",
      "metadata": {
        "id": "T_195qzAviaj"
      },
      "source": [
        "**Now we can load the job details for each listing (id, title, company name, location, date, job details link) into a dataframe:**\n"
      ]
    },
    {
      "cell_type": "code",
      "metadata": {
        "id": "FdpqsHAPviq0"
      },
      "source": [
        "job_id= []\n",
        "job_title = []\n",
        "company_name = []\n",
        "location = []\n",
        "date = []\n",
        "job_link = []\n",
        "for job in jobs:\n",
        "    job_id0 = job.get_attribute('data-id')\n",
        "    job_id.append(job_id0)\n",
        "\n",
        "    job_title0 = job.find_element_by_css_selector('h3').get_attribute('innerText')\n",
        "    job_title.append(job_title0)\n",
        "\n",
        "    company_name0 = job.find_element_by_css_selector('h4').get_attribute('innerText')\n",
        "    company_name.append(company_name0)\n",
        "\n",
        "    location0 = job.find_element_by_css_selector('div>span').get_attribute('innerText')\n",
        "    location.append(location0)\n",
        "\n",
        "    date0 = job.find_element_by_css_selector('div>div>time').get_attribute('datetime')\n",
        "    date.append(date0)\n",
        "\n",
        "    job_link0 = job.find_element_by_css_selector('a').get_attribute('href')\n",
        "    job_link.append(job_link0)\n"
      ],
      "execution_count": null,
      "outputs": []
    },
    {
      "cell_type": "markdown",
      "metadata": {
        "id": "8LCAMznswJ_U"
      },
      "source": [
        "**Joining lists as columns of a single data frame**"
      ]
    },
    {
      "cell_type": "code",
      "metadata": {
        "id": "jqguMOE7vjG_"
      },
      "source": [
        "JOBS = pd.DataFrame(list(zip(job_title,company_name,location,date,job_link)),\n",
        "                columns = ['Role','Company','Location','Date','Link'])\n",
        "\n",
        "print(JOBS)"
      ],
      "execution_count": null,
      "outputs": []
    },
    {
      "cell_type": "markdown",
      "metadata": {
        "id": "eaGa92kswZFE"
      },
      "source": [
        "**Saving the dataframe as a CSV file**"
      ]
    },
    {
      "cell_type": "code",
      "metadata": {
        "id": "JZtkBU-tvQj3"
      },
      "source": [
        "JOBS.to_csv('JOBS.csv')"
      ],
      "execution_count": null,
      "outputs": []
    },
    {
      "cell_type": "code",
      "metadata": {
        "id": "q_tUYHKSvQtA"
      },
      "source": [
        "#Now we can find all the jobs. I use the tag ‘jobs-search__results-list’ to find the job lists:\n",
        "job_lists = driver.find_element_by_class_name('jobs-search__results-list')\n",
        "\n",
        "#Each 'li' element contains one job:\n",
        "jobs = job_lists.find_elements_by_tag_name('li')\n",
        "\n",
        "#Checking how many jobs are listed:\n",
        "len(jobs)\n",
        "\n",
        "#Now we can load the job details for each listing (id, title, company name, location, date, job details link) into a dataframe:\n",
        "job_id= []\n",
        "job_title = []\n",
        "company_name = []\n",
        "location = []\n",
        "date = []\n",
        "job_link = []\n",
        "for job in jobs:\n",
        "    job_id0 = job.get_attribute('data-id')\n",
        "    job_id.append(job_id0)\n",
        "\n",
        "    job_title0 = job.find_element_by_css_selector('h3').get_attribute('innerText')\n",
        "    job_title.append(job_title0)\n",
        "\n",
        "    company_name0 = job.find_element_by_css_selector('h4').get_attribute('innerText')\n",
        "    company_name.append(company_name0)\n",
        "\n",
        "    location0 = job.find_element_by_css_selector('div>span').get_attribute('innerText')\n",
        "    location.append(location0)\n",
        "\n",
        "    date0 = job.find_element_by_css_selector('div>div>time').get_attribute('datetime')\n",
        "    date.append(date0)\n",
        "\n",
        "    job_link0 = job.find_element_by_css_selector('a').get_attribute('href')\n",
        "    job_link.append(job_link0)\n",
        "\n",
        "JOBS = pd.DataFrame(list(zip(job_title,company_name,location,date,job_link)),\n",
        "                columns = ['Role','Company','Location','Date','Link'])\n",
        "\n",
        "print(JOBS)\n",
        "\n",
        "\n",
        "JOBS.to_csv('JOBS.csv')\n"
      ],
      "execution_count": null,
      "outputs": []
    }
  ]
}